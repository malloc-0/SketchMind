{
 "cells": [
  {
   "cell_type": "code",
   "execution_count": 1,
   "metadata": {},
   "outputs": [
    {
     "name": "stderr",
     "output_type": "stream",
     "text": [
      "Using TensorFlow backend.\n"
     ]
    }
   ],
   "source": [
    "# 导入需要的包, Sequential()是最简单的模型——序贯模型\n",
    "from keras.models import Sequential\n",
    "from keras.layers import Dense, Dropout, Activation\n",
    "from keras.optimizers import SGD\n",
    "from keras.datasets import mnist\n",
    "import numpy as np"
   ]
  },
  {
   "cell_type": "code",
   "execution_count": 2,
   "metadata": {},
   "outputs": [],
   "source": [
    "# 搭建网络\n",
    "model = Sequential()\n",
    "model.add(Dense(500,input_shape=(784,))) #输入层， 28*28=784\n",
    "model.add(Activation('tanh'))\n",
    "model.add(Dropout(0.5)) #50% dropout\n",
    "\n",
    "model.add(Dense(500)) #隐藏层， 500\n",
    "model.add(Activation('tanh'))\n",
    "model.add(Dropout(0.5)) #50% dropout\n",
    "\n",
    "model.add(Dense(10)) #输出结果， 10\n",
    "model.add(Activation('softmax'))\n",
    "# 详解\n",
    "# 通过model.add()增加模型的层数。其中Dense()设定该层的结构，第一个参数表示输出的个数，\n",
    "# 第二个参数是接受的输入数据的格式。第一层中需要指定输入的格式，在之后的增加的层中输入层\n",
    "# 节点数默认是上一层的输出个数。Actication()指定激活函数，Dropout()指定每层要丢掉的\n",
    "# 节点信息百分比。输出层激活函数一般为softmax，不需要丢弃节点。"
   ]
  },
  {
   "cell_type": "code",
   "execution_count": 3,
   "metadata": {},
   "outputs": [],
   "source": [
    "# 编译模型\n",
    "sgd = SGD(lr=0.01, decay=1e-6, momentum=0.9, nesterov=True) #设定学习效率等参数\n",
    "model.compile(loss = 'categorical_crossentropy', optimizer=sgd, metrics=['accuracy']) #使用交叉熵作为loss\n",
    "# 详解\n",
    "# 使用优化器sgd来编译模型，用来指定学习效率等参数。编译时指定loss函数，这里使用交叉熵函数作为loss函数。\n",
    "# metrics 用来展示训练的acc正确率"
   ]
  },
  {
   "cell_type": "code",
   "execution_count": 4,
   "metadata": {},
   "outputs": [
    {
     "name": "stdout",
     "output_type": "stream",
     "text": [
      "(60000, 784)\n",
      "(60000, 10)\n"
     ]
    }
   ],
   "source": [
    "# 读取数据\n",
    "(x_train,y_train),(x_test,y_test) = mnist.load_data() #使用mnist读取数据（第一次需要下载）\n",
    "# print(x_train[0].shape)\n",
    "\n",
    "X_train = x_train.reshape(x_train.shape[0], x_train.shape[1]*x_train.shape[2])\n",
    "print (X_train.shape)\n",
    "X_test = x_test.reshape(x_test.shape[0],x_test.shape[1]*x_test.shape[2])\n",
    "\n",
    "Y_train = (np.arange(10) == y_train[:,None]).astype(int) #将index转换橙一个one_hot矩阵\n",
    "print (Y_train.shape)\n",
    "Y_test = (np.arange(10) == y_test[:,None]).astype(int)\n",
    "# 详解\n",
    "# 读取minst数据集，通过reshape()函数转换数据的格式。\n",
    "# 如果我们打印x_train.shape会发现它是(60000,28,28)，即一共60000个数据，每个数据\n",
    "# 是28*28的图片。通过reshape转换为(60000,784)的线性张量。\n",
    "# 如果我们打印y_train会发现它是一组表示每张图片的表示数字的数组，通过numpy的arange()\n",
    "# 和astype()函数将每个数字转换为一组长度为10的张量，代表的数字的位置是1，其它位置为0."
   ]
  },
  {
   "cell_type": "code",
   "execution_count": 5,
   "metadata": {},
   "outputs": [
    {
     "name": "stdout",
     "output_type": "stream",
     "text": [
      "Train on 42000 samples, validate on 18000 samples\n",
      "Epoch 1/10\n",
      "42000/42000 [==============================] - 6s 152us/step - loss: 1.1965 - acc: 0.5911 - val_loss: 0.5409 - val_acc: 0.8352\n",
      "Epoch 2/10\n",
      "42000/42000 [==============================] - 5s 116us/step - loss: 0.9432 - acc: 0.6781 - val_loss: 0.4856 - val_acc: 0.8544\n",
      "Epoch 3/10\n",
      "42000/42000 [==============================] - 5s 122us/step - loss: 0.9284 - acc: 0.6839 - val_loss: 0.4901 - val_acc: 0.8524\n",
      "Epoch 4/10\n",
      "42000/42000 [==============================] - 5s 122us/step - loss: 0.8463 - acc: 0.7167 - val_loss: 0.4568 - val_acc: 0.8616\n",
      "Epoch 5/10\n",
      "42000/42000 [==============================] - 5s 118us/step - loss: 0.7449 - acc: 0.7564 - val_loss: 0.4153 - val_acc: 0.8704\n",
      "Epoch 6/10\n",
      "42000/42000 [==============================] - 5s 119us/step - loss: 0.7241 - acc: 0.7605 - val_loss: 0.4177 - val_acc: 0.8709\n",
      "Epoch 7/10\n",
      "42000/42000 [==============================] - 5s 119us/step - loss: 0.7076 - acc: 0.7668 - val_loss: 0.3984 - val_acc: 0.8766\n",
      "Epoch 8/10\n",
      "42000/42000 [==============================] - 6s 139us/step - loss: 0.6658 - acc: 0.7824 - val_loss: 0.3840 - val_acc: 0.8845\n",
      "Epoch 9/10\n",
      "42000/42000 [==============================] - 5s 127us/step - loss: 0.6576 - acc: 0.7850 - val_loss: 0.3820 - val_acc: 0.8822\n",
      "Epoch 10/10\n",
      "42000/42000 [==============================] - 5s 115us/step - loss: 0.6344 - acc: 0.7937 - val_loss: 0.3591 - val_acc: 0.8900\n"
     ]
    },
    {
     "data": {
      "text/plain": [
       "<keras.callbacks.History at 0x2d1b20caf60>"
      ]
     },
     "execution_count": 5,
     "metadata": {},
     "output_type": "execute_result"
    }
   ],
   "source": [
    "# 对使用转换后的数据对模型进行训练\n",
    "model.fit(X_train,Y_train,batch_size=200,epochs=10,shuffle=True,verbose=1,validation_split=0.3)\n",
    "# 详解\n",
    "# 其中，batch_size表示每个训练块包含的数据个数，epochs表示训练的次数，shuffle表示是\n",
    "# 否每次训练后将batch打乱重排，verbose表示是否输出进度log，validation_split指定验证集占比\n"
   ]
  },
  {
   "cell_type": "code",
   "execution_count": null,
   "metadata": {},
   "outputs": [],
   "source": [
    "# 输出对测试集进行测试的结果\n",
    "print(\"test set\")\n",
    "np.set_printoptions(threshold=90000)\n",
    "\n",
    "X_test1=X_test[1:5]\n",
    "#print(X_test1)\n",
    "Y_test1=Y_test[1:5]\n",
    "print(Y_test1)\n",
    "scores = model.evaluate(X_test1,Y_test1,batch_size=200,verbose=1)\n",
    "print(\"\")\n",
    "print(\"The test loss is\")\n",
    "print(scores)\n",
    "result = model.predict(X_test1,batch_size=200,verbose=1)\n",
    "\n",
    "result_max = np.argmax(result, axis = 1)\n",
    "test_max = np.argmax(Y_test1, axis = 1)\n",
    "#print(result)\n",
    "\n",
    "result_bool = np.equal(result_max, test_max)\n",
    "\n",
    "true_num = np.sum(result_bool)\n",
    "print(\"true_num=\",true_num)\n",
    "print(\"\")\n",
    "print(\"The accuracy of the model is %f\" % (true_num/len(result_bool)))\n",
    "# 详解\n",
    "# model.evaluate()计算了测试集中的识别的loss值。\n",
    "# 通过model.predict()，我们可以得到对于测试集中每个数字的识别结果，每个数字对应一个表示每个数字都是多少概率的长度为10的张量。\n",
    "# 通过np.argmax()，我们得到每个数字的识别结果和期望的识别结果\n",
    "# 通过np.equal()，我们得到每个数字是否识别正确\n",
    "# 通过np.sum()得到识别正确的总的数字个数\n",
    "\n",
    "# 作者：JackieXiao\n",
    "# 链接：https://www.jianshu.com/p/6bf2c54a9d60\n",
    "# 來源：简书\n",
    "# 简书著作权归作者所有，任何形式的转载都请联系作者获得授权并注明出处。"
   ]
  },
  {
   "cell_type": "code",
   "execution_count": null,
   "metadata": {},
   "outputs": [],
   "source": []
  },
  {
   "cell_type": "code",
   "execution_count": null,
   "metadata": {},
   "outputs": [],
   "source": []
  }
 ],
 "metadata": {
  "kernelspec": {
   "display_name": "Python 3",
   "language": "python",
   "name": "python3"
  },
  "language_info": {
   "codemirror_mode": {
    "name": "ipython",
    "version": 3
   },
   "file_extension": ".py",
   "mimetype": "text/x-python",
   "name": "python",
   "nbconvert_exporter": "python",
   "pygments_lexer": "ipython3",
   "version": "3.6.6"
  }
 },
 "nbformat": 4,
 "nbformat_minor": 2
}

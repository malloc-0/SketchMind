{
 "cells": [
  {
   "cell_type": "code",
   "execution_count": 1,
   "metadata": {},
   "outputs": [
    {
     "name": "stderr",
     "output_type": "stream",
     "text": [
      "Using TensorFlow backend.\n"
     ]
    }
   ],
   "source": [
    "# 导入需要的包, Sequential()是最简单的模型——序贯模型\n",
    "from keras.models import Sequential\n",
    "from keras.layers import Dense, Dropout, Activation\n",
    "from keras.optimizers import SGD\n",
    "from keras.datasets import mnist\n",
    "import numpy as np\n",
    "import cv2\n"
   ]
  },
  {
   "cell_type": "code",
   "execution_count": 2,
   "metadata": {},
   "outputs": [],
   "source": [
    "model = Sequential()\n",
    "model.add(Dense(500,input_shape=(3072,))) #输入层， 28*28=784\n",
    "model.add(Activation('tanh'))\n",
    "model.add(Dropout(0.5)) #50% dropout\n",
    "\n",
    "model.add(Dense(500)) #隐藏层， 500\n",
    "model.add(Activation('tanh'))\n",
    "model.add(Dropout(0.5)) #50% dropout\n",
    "\n",
    "model.add(Dense(8)) #输出结果， 10\n",
    "model.add(Activation('softmax'))"
   ]
  },
  {
   "cell_type": "code",
   "execution_count": 3,
   "metadata": {},
   "outputs": [],
   "source": [
    "sgd = SGD(lr=0.01, decay=1e-6, momentum=0.9, nesterov=True) #设定学习效率等参数\n",
    "model.compile(loss = 'categorical_crossentropy', optimizer=sgd, metrics=['accuracy']) #使用交叉熵作为loss"
   ]
  },
  {
   "cell_type": "code",
   "execution_count": 4,
   "metadata": {},
   "outputs": [],
   "source": [
    "def get_data():\n",
    "    X_t1=[]\n",
    "    X_t2=[]\n",
    "    Y_t1=[]\n",
    "    Y_t2=[]\n",
    "    for i in range(8):\n",
    "        img=cv2.imread(('data/test'+str(i)+'.png'))\n",
    "        gray = cv2.cvtColor(img, cv2.COLOR_BGR2GRAY)\n",
    "        X_t1.append(gray)\n",
    "        Y_t1.append(i)\n",
    "        if i==7:\n",
    "            X_t2.append(gray)\n",
    "            Y_t2.append(i)\n",
    "    a=(np.array(X_t1),np.array(Y_t1))\n",
    "    b=(np.array(X_t2),np.array(Y_t2))\n",
    "    return a,b\n",
    "            \n",
    "        \n",
    "        \n",
    "    "
   ]
  },
  {
   "cell_type": "code",
   "execution_count": 5,
   "metadata": {},
   "outputs": [
    {
     "name": "stdout",
     "output_type": "stream",
     "text": [
      "[0 1 2 3 4 5 6 7]\n",
      "(8, 3072)\n",
      "(8, 8)\n"
     ]
    }
   ],
   "source": [
    "(x_train,y_train),(x_test,y_test) = get_data() #使用mnist读取数据（第一次需要下载）\n",
    "\n",
    "print(y_train)\n",
    "\n",
    "X_train = x_train.reshape(x_train.shape[0], x_train.shape[1]*x_train.shape[2])\n",
    "X_test = x_test.reshape(x_test.shape[0],x_test.shape[1]*x_test.shape[2])\n",
    "\n",
    "print(X_train.shape)\n",
    "Y_train = (np.arange(8) == y_train[:,None]).astype(int) #将index转换橙一个one_hot矩阵\n",
    "Y_test = (np.arange(8) == y_test[:,None]).astype(int)\n",
    "print (Y_train.shape)"
   ]
  },
  {
   "cell_type": "code",
   "execution_count": 6,
   "metadata": {},
   "outputs": [
    {
     "name": "stdout",
     "output_type": "stream",
     "text": [
      "Train on 5 samples, validate on 3 samples\n",
      "Epoch 1/8\n",
      "5/5 [==============================] - 2s 324ms/step - loss: 5.1345 - acc: 0.0000e+00 - val_loss: 9.5557 - val_acc: 0.0000e+00\n",
      "Epoch 2/8\n",
      "5/5 [==============================] - 0s 11ms/step - loss: 5.3884 - acc: 0.0000e+00 - val_loss: 12.7167 - val_acc: 0.0000e+00\n",
      "Epoch 3/8\n",
      "5/5 [==============================] - 0s 10ms/step - loss: 6.4736 - acc: 0.0000e+00 - val_loss: 11.8539 - val_acc: 0.0000e+00\n",
      "Epoch 4/8\n",
      "5/5 [==============================] - 0s 10ms/step - loss: 5.5157 - acc: 0.2000 - val_loss: 13.5394 - val_acc: 0.0000e+00\n",
      "Epoch 5/8\n",
      "5/5 [==============================] - 0s 10ms/step - loss: 7.3387 - acc: 0.2000 - val_loss: 10.1811 - val_acc: 0.0000e+00\n",
      "Epoch 6/8\n",
      "5/5 [==============================] - 0s 10ms/step - loss: 6.6829 - acc: 0.4000 - val_loss: 9.8685 - val_acc: 0.0000e+00\n",
      "Epoch 7/8\n",
      "5/5 [==============================] - 0s 9ms/step - loss: 5.8521 - acc: 0.4000 - val_loss: 11.3089 - val_acc: 0.0000e+00\n",
      "Epoch 8/8\n",
      "5/5 [==============================] - 0s 10ms/step - loss: 5.4584 - acc: 0.0000e+00 - val_loss: 12.8774 - val_acc: 0.0000e+00\n"
     ]
    },
    {
     "data": {
      "text/plain": [
       "<keras.callbacks.History at 0x29a70de2a20>"
      ]
     },
     "execution_count": 6,
     "metadata": {},
     "output_type": "execute_result"
    }
   ],
   "source": [
    "model.fit(X_train,Y_train,batch_size=2,epochs=8,shuffle=True,verbose=1,validation_split=0.3)"
   ]
  },
  {
   "cell_type": "code",
   "execution_count": 8,
   "metadata": {},
   "outputs": [
    {
     "name": "stdout",
     "output_type": "stream",
     "text": [
      "test set\n",
      "[[1 0 0 0 0 0 0 0]\n",
      " [0 1 0 0 0 0 0 0]\n",
      " [0 0 1 0 0 0 0 0]\n",
      " [0 0 0 1 0 0 0 0]\n",
      " [0 0 0 0 1 0 0 0]\n",
      " [0 0 0 0 0 1 0 0]\n",
      " [0 0 0 0 0 0 1 0]\n",
      " [0 0 0 0 0 0 0 1]]\n",
      "8/8 [==============================] - 0s 1ms/step\n",
      "\n",
      "The test loss is\n",
      "[8.149681329727173, 0.125]\n",
      "8/8 [==============================] - 0s 1ms/step\n",
      "The redult is\n",
      "[[3.2853932e-05 3.8656758e-04 8.6795082e-03 7.8067387e-06 9.9086809e-01\n",
      "  2.1586713e-05 1.4348946e-07 3.4295460e-06]\n",
      " [3.0585063e-05 2.3824377e-03 4.0433101e-02 6.1519124e-05 9.5704895e-01\n",
      "  3.5891899e-05 3.5718500e-07 7.0504079e-06]\n",
      " [2.7170227e-05 1.4546184e-03 2.6352167e-01 3.3179738e-05 7.3488325e-01\n",
      "  6.4231412e-05 6.7440584e-07 1.5176413e-05]\n",
      " [6.8522727e-06 2.5042819e-04 3.1267379e-03 1.4090186e-04 9.9645293e-01\n",
      "  1.8493940e-05 1.4111548e-07 3.5970018e-06]\n",
      " [5.6327390e-06 1.4412738e-04 8.8003289e-04 3.2009373e-06 9.9896133e-01\n",
      "  4.3966952e-06 4.5340077e-08 1.3160922e-06]\n",
      " [2.8259601e-05 8.6522102e-04 3.0759893e-02 2.2303842e-05 9.6828622e-01\n",
      "  3.1644908e-05 2.6682113e-07 6.1949590e-06]\n",
      " [1.5632169e-05 3.8881466e-04 1.6710022e-02 1.5719865e-05 9.8284507e-01\n",
      "  2.0017833e-05 1.6215665e-07 4.5164966e-06]\n",
      " [1.4178761e-05 2.4717930e-04 2.9279140e-03 2.7907192e-05 9.9676609e-01\n",
      "  1.3466816e-05 1.1876831e-07 3.2507098e-06]]\n",
      "true_num= 1\n",
      "\n",
      "The accuracy of the model is 0.125000\n"
     ]
    }
   ],
   "source": [
    "# 输出对测试集进行测试的结果\n",
    "print(\"test set\")\n",
    "np.set_printoptions(threshold=90000)\n",
    "\n",
    "X_test1=X_train\n",
    "#print(X_test1)\n",
    "Y_test1=Y_train\n",
    "print(Y_test1)\n",
    "scores = model.evaluate(X_test1,Y_test1,batch_size=2,verbose=1)\n",
    "print(\"\")\n",
    "print(\"The test loss is\")\n",
    "print(scores)\n",
    "result = model.predict(X_test1,batch_size=2,verbose=1)\n",
    "print(\"The redult is\")\n",
    "print (result)\n",
    "\n",
    "result_max = np.argmax(result, axis = 1)\n",
    "test_max = np.argmax(Y_test1, axis = 1)\n",
    "#print(result)\n",
    "\n",
    "result_bool = np.equal(result_max, test_max)\n",
    "\n",
    "true_num = np.sum(result_bool)\n",
    "print(\"true_num=\",true_num)\n",
    "print(\"\")\n",
    "print(\"The accuracy of the model is %f\" % (true_num/len(result_bool)))\n",
    "# 详解\n",
    "# model.evaluate()计算了测试集中的识别的loss值。\n",
    "# 通过model.predict()，我们可以得到对于测试集中每个数字的识别结果，每个数字对应一个表示每个数字都是多少概率的长度为10的张量。\n",
    "# 通过np.argmax()，我们得到每个数字的识别结果和期望的识别结果\n",
    "# 通过np.equal()，我们得到每个数字是否识别正确\n",
    "# 通过np.sum()得到识别正确的总的数字个数\n",
    "\n",
    "# 作者：JackieXiao\n",
    "# 链接：https://www.jianshu.com/p/6bf2c54a9d60\n",
    "# 來源：简书\n",
    "# 简书著作权归作者所有，任何形式的转载都请联系作者获得授权并注明出处。"
   ]
  },
  {
   "cell_type": "code",
   "execution_count": null,
   "metadata": {},
   "outputs": [],
   "source": []
  }
 ],
 "metadata": {
  "kernelspec": {
   "display_name": "Python 3",
   "language": "python",
   "name": "python3"
  },
  "language_info": {
   "codemirror_mode": {
    "name": "ipython",
    "version": 3
   },
   "file_extension": ".py",
   "mimetype": "text/x-python",
   "name": "python",
   "nbconvert_exporter": "python",
   "pygments_lexer": "ipython3",
   "version": "3.6.6"
  }
 },
 "nbformat": 4,
 "nbformat_minor": 2
}

{
 "cells": [
  {
   "cell_type": "code",
   "execution_count": null,
   "metadata": {},
   "outputs": [],
   "source": [
    "# 我们需要的数据结构\n",
    "# option = {\n",
    "#     title : {\n",
    "#         text: '冰桶挑战'\n",
    "#     },\n",
    "#     toolbox: {\n",
    "#         show : true,\n",
    "#         feature : {\n",
    "#             mark : {show: true},\n",
    "#             dataView : {show: true, readOnly: false},\n",
    "#             restore : {show: true},\n",
    "#             saveAsImage : {show: true}\n",
    "#         }\n",
    "#     },\n",
    "#     series : [\n",
    "#         {\n",
    "#             name:'树图',\n",
    "#             type:'tree',\n",
    "#             orient: 'horizontal',  // vertical horizontal\n",
    "#             rootLocation: {x: 100,y: 230}, // 根节点位置  {x: 100, y: 'center'}\n",
    "#             nodePadding: 8,\n",
    "#             layerPadding: 200,\n",
    "#             hoverable: false,\n",
    "#             roam: true,\n",
    "#             symbolSize: 6,\n",
    "#             itemStyle: {\n",
    "#                 normal: {\n",
    "#                     color: '#4883b4',\n",
    "#                     label: {\n",
    "#                         show: true,\n",
    "#                         position: 'right',\n",
    "#                         formatter: \"{b}\",\n",
    "#                         textStyle: {\n",
    "#                             color: '#000',\n",
    "#                             fontSize: 5\n",
    "#                         }\n",
    "#                     },\n",
    "#                     lineStyle: {\n",
    "#                         color: '#ccc',\n",
    "#                         type: 'curve' // 'curve'|'broken'|'solid'|'dotted'|'dashed'\n",
    "\n",
    "#                     }\n",
    "#                 },\n",
    "#                 emphasis: {\n",
    "#                     color: '#4883b4',\n",
    "#                     label: {\n",
    "#                         show: false\n",
    "#                     },\n",
    "#                     borderWidth: 0\n",
    "#                 }\n",
    "#             },\n",
    "            \n",
    "#             data: [\n",
    "#                    {\"name\":\"第一级1\",\"children\":[{\"name\":\"第二级1\"},{\"name\":\"第二级2\"},{\"name\":\"第二级3\"}]}\n",
    "#                   ]\n",
    "#         }\n",
    "#     ]\n",
    "# };"
   ]
  },
  {
   "cell_type": "code",
   "execution_count": null,
   "metadata": {},
   "outputs": [],
   "source": [
    "#假装识别出了一切（想要啥有啥），生成一个图\n",
    "#我们识别了所有的node及其内容，位置\n",
    "Node_list=[[\"Node1\",\"string1\",(x1,y1)][\"Node2\",\"string2\",(x2,y2)][\"Node3\",\"string3\",(x3,y3)]]\n",
    "#我们识别了所有的edge及其角度，长度（切割图片对角线的长度），位置\n",
    "Edge_list=[[\"E1\",A1,L1,(x1,y1)],[\"E2\",A2,L2,(x2,y3)]]\n"
   ]
  },
  {
   "cell_type": "code",
   "execution_count": null,
   "metadata": {},
   "outputs": [],
   "source": [
    "#\n",
    "class MindMapping:\n",
    "    \n",
    "    relationship=[]\n",
    "    def __init__(self, node_l, edge_l):\n",
    "        self.node_l = node_l\n",
    "        self.edge_l = edge_l\n",
    "\n",
    "    def get_relationship(self):\n",
    "        for edge in self.edge_l:\n",
    "            \n",
    "     \n",
    " \n",
    "    def generate_DS(self):\n",
    "        print \"Name : \", self.name,  \", Salary: \", self.salary"
   ]
  }
 ],
 "metadata": {
  "kernelspec": {
   "display_name": "Python 3",
   "language": "python",
   "name": "python3"
  },
  "language_info": {
   "codemirror_mode": {
    "name": "ipython",
    "version": 3
   },
   "file_extension": ".py",
   "mimetype": "text/x-python",
   "name": "python",
   "nbconvert_exporter": "python",
   "pygments_lexer": "ipython3",
   "version": "3.6.6"
  }
 },
 "nbformat": 4,
 "nbformat_minor": 2
}
